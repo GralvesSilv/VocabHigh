{
  "nbformat": 4,
  "nbformat_minor": 0,
  "metadata": {
    "colab": {
      "provenance": [],
      "mount_file_id": "1ufS5_sExbCo3fXeYoF_BjSqxZusYP7Jw",
      "authorship_tag": "ABX9TyNo6vihSAcENML0IacUuh0d"
    },
    "kernelspec": {
      "name": "python3",
      "display_name": "Python 3"
    },
    "language_info": {
      "name": "python"
    }
  },
  "cells": [
    {
      "cell_type": "markdown",
      "source": [
        "Instalando SDK"
      ],
      "metadata": {
        "id": "isvQhLaBQKRR"
      }
    },
    {
      "cell_type": "code",
      "execution_count": null,
      "metadata": {
        "id": "dDeBF8-3GCxV"
      },
      "outputs": [],
      "source": [
        "!pip install -q -U google-generativeai"
      ]
    },
    {
      "cell_type": "code",
      "source": [
        "# Import the Python SDK\n",
        "import google.generativeai as genai\n",
        "from google.colab import userdata\n",
        "\n",
        "API_KEY = userdata.get('SECRET_KEY')\n",
        "\n",
        "genai.configure(api_key=API_KEY)"
      ],
      "metadata": {
        "id": "T3D6Vt9VQdqG"
      },
      "execution_count": null,
      "outputs": []
    },
    {
      "cell_type": "markdown",
      "source": [
        "Configurando o modelo"
      ],
      "metadata": {
        "id": "aEuen_9nQyCb"
      }
    },
    {
      "cell_type": "code",
      "source": [
        "generation_config = {\n",
        "    \"temperature\": 1,\n",
        "}"
      ],
      "metadata": {
        "id": "6q5gG2pPQ0dC"
      },
      "execution_count": null,
      "outputs": []
    },
    {
      "cell_type": "code",
      "source": [
        "safety_settings = {\n",
        "    \"HARASSMENT\": \"BLOCK_NONE\",\n",
        "    \"HATE\": \"BLOCK_NONE\",\n",
        "    \"SEXUAL\": \"BLOCK_NONE\",\n",
        "    \"DANGEROUS\": \"BLOCK_NONE\",\n",
        "}"
      ],
      "metadata": {
        "id": "OT-08Qx2TsEd"
      },
      "execution_count": null,
      "outputs": []
    },
    {
      "cell_type": "markdown",
      "source": [
        "Iniciando o modelo"
      ],
      "metadata": {
        "id": "6n8mgFuaTvkT"
      }
    },
    {
      "cell_type": "code",
      "source": [
        "model = genai.GenerativeModel(model_name=\"gemini-1.0-pro\",\n",
        "                              generation_config=generation_config,\n",
        "                              safety_settings=safety_settings)"
      ],
      "metadata": {
        "id": "GOF8i13STywU"
      },
      "execution_count": null,
      "outputs": []
    },
    {
      "cell_type": "markdown",
      "source": [
        "iniciando histórico de conversa"
      ],
      "metadata": {
        "id": "enps6AwtcD9c"
      }
    },
    {
      "cell_type": "code",
      "source": [
        "chat = model.start_chat(history=[])"
      ],
      "metadata": {
        "id": "ru3q616AcCvk"
      },
      "execution_count": null,
      "outputs": []
    },
    {
      "cell_type": "markdown",
      "source": [
        "Ensinando as especificações do que fazer, regras e formatação"
      ],
      "metadata": {
        "id": "8ysC6YHsv-8D"
      }
    },
    {
      "cell_type": "code",
      "source": [
        "response = chat.send_message(\"\"\"\n",
        "Você é um professor de inglês para crianças brasileiras. Use palavras simples.\n",
        "1. Enviarei uma palavra em ingês.\n",
        "2. gere uma frase com essa palavra.\n",
        "    frase simples\n",
        "    não use mais que 15 palavras\n",
        "3. A frase deve começar em ingês e ser seguida da tradução para o portugês.\n",
        "4. Formate sua resposta no formato CSV.\n",
        "    a formatação deve ser assim: palavra em inglês, frase em inglês que aplica a palavra, palavra em inglês traduzida para o portugês, frase com a palavra traduzida para o portuês.\n",
        "    siga este exemplo:\n",
        "          pergunta: love\n",
        "          resposta: love, I love you, amor, eu amo você\n",
        "          pergunta: book\n",
        "          resposta: book, That book is interesting, livro, aquele livro é interesante\n",
        "5. Não use vírgulas no meio das frases, pois arruinará a formatação. Se a fraase criada tiver vírgula, substitua por ; ou apenas um ponto.\n",
        "6. Não inclua mais nenhuma instrução ou explicação.\n",
        "\"\"\")\n",
        "print(response.text)"
      ],
      "metadata": {
        "colab": {
          "base_uri": "https://localhost:8080/",
          "height": 191
        },
        "id": "y7UZuipuv9-c",
        "outputId": "a60b7673-e545-4b68-ca2d-ab8597f2e666"
      },
      "execution_count": null,
      "outputs": [
        {
          "output_type": "stream",
          "name": "stdout",
          "text": [
            "word, english sentence, translation, translated portuguese sentence\n",
            "dog, My dog is cute, cachorro, meu cachorro é bonitinho\n",
            "cat, I have a cat, gato, eu tenho um gato\n",
            "red, The apple is red, vermelho, a maçã é vermelha\n",
            "blue, The sky is blue, azul, o céu é azul\n",
            "yellow, The sun is yellow, amarelo, o sol é amarelo\n",
            "white, The milk is white, branco, o leite é branco\n",
            "black, The car is black, preto, o carro é preto\n",
            "green, The grass is green, verde, a grama é verde\n",
            "purple, The flowers are purple, roxo, as flores são roxas\n"
          ]
        }
      ]
    },
    {
      "cell_type": "code",
      "source": [
        "prompt = input(\"esperando prompt: \")\n",
        "\n",
        "while prompt != \"fim\":\n",
        "  response = chat.send_message(prompt)\n",
        "  print(\"resposta: \", response.text, \"\\n\")\n",
        "  prompt = input(\"esperando prompt: \")"
      ],
      "metadata": {
        "colab": {
          "base_uri": "https://localhost:8080/",
          "height": 451
        },
        "id": "vTSniSg6cUh6",
        "outputId": "302cd3f8-4530-43aa-cd01-8607b1878612"
      },
      "execution_count": null,
      "outputs": [
        {
          "name": "stdout",
          "output_type": "stream",
          "text": [
            "esperando prompt: that\n",
            "resposta:  that, That is a book, isso, isso é um livro\n",
            "that, That is my friend, isso, aquele é meu amigo\n",
            "that, That is a beautiful painting, isso, aquela é uma linda pintura\n",
            "that, That is a delicious cake, isso, esse bolo é delicioso\n",
            "that, That is a funny movie, isso, aquele filme é engraçado\n",
            "that, That is a sad song, isso, aquela música é triste\n",
            "that, That is an interesting story, isso, essa história é interessante\n",
            "that, That is a useful tool, isso, essa ferramenta é útil\n",
            "that, That is a comfortable chair, isso, essa cadeira é confortável\n",
            "that, That is a nice gift, isso, esse presente é legal \n",
            "\n",
            "esperando prompt: what\n",
            "resposta:  what, What is your name?, o que, qual é seu nome?\n",
            "what, What is the time?, o que, que horas são?\n",
            "what, What is the weather like?, o que, como está o tempo?\n",
            "what, What are you doing?, o que, o que você está fazendo?\n",
            "what, What do you want?, o que, o que você quer?\n",
            "what, What is the problem?, o que, qual é o problema?\n",
            "what, What is the solution?, o que, qual é a solução?\n",
            "what, What is the difference?, o que, qual é a diferença?\n",
            "what, What is the meaning of life?, o que, qual é o sentido da vida?\n",
            "what, What is the best thing to do?, o que, qual é a melhor coisa a se fazer? \n",
            "\n",
            "esperando prompt: fim\n"
          ]
        }
      ]
    },
    {
      "cell_type": "markdown",
      "source": [
        "historico"
      ],
      "metadata": {
        "id": "ZdiK8Xit3Q0M"
      }
    },
    {
      "cell_type": "code",
      "source": [
        "#Melhorando a visualização\n",
        "#Código disponível em https://ai.google.dev/tutorials/python_quickstart#import_packages\n",
        "import textwrap\n",
        "from IPython.display import display\n",
        "from IPython.display import Markdown\n",
        "\n",
        "def to_markdown(text):\n",
        "  text = text.replace('•', '  *')\n",
        "  return Markdown(textwrap.indent(text, '> ', predicate=lambda _: True))\n",
        "\n",
        "#Imprimindo o histórico\n",
        "for message in chat.history:\n",
        "  display(to_markdown(f'**{message.role}**: {message.parts[0].text}'))\n",
        "  print('-------------------------------------------')"
      ],
      "metadata": {
        "colab": {
          "base_uri": "https://localhost:8080/",
          "height": 789
        },
        "id": "M43UlLsZ3S4z",
        "outputId": "1bce8a41-f31d-4af7-b872-a08c78c1358f"
      },
      "execution_count": null,
      "outputs": [
        {
          "output_type": "display_data",
          "data": {
            "text/plain": [
              "<IPython.core.display.Markdown object>"
            ],
            "text/markdown": "> **user**:  \n> Você é um professor de inglês para crianças brasileiras. Use palavras simples.\n> 1. Enviarei uma palavra em ingês.\n> 2. gere uma frase com essa palavra.\n>     -frase simples\n>     -não use mais que 15 palavras\n> 3. A frase deve começar em ingês e ser seguida da tradução para o portugês.\n> 4. Formate sua resposta no formato CSV.\n>     -a formatação deve ser assim: palavra em inglês, frase em inglês que aplica a palavra, palavra em inglês traduzida para o portugês, frase com a palavra traduzida para o portuês.\n>     -siga este exemplo:\n>           pergunta: love\n>           resposta: love, I love you, amor, eu amo você\n>           pergunta: book\n>           resposta: book, That book is interesting, livro, aquele livro é interesante\n> 5. Não use vírgulas no meio das frases, pois arruinará a formatação. Se a fraase criada tiver vírgula, substitua por ; ou apenas um ponto.\n> 6. Não inclua mais nenhuma instrução ou explicação.\n"
          },
          "metadata": {}
        },
        {
          "output_type": "stream",
          "name": "stdout",
          "text": [
            "-------------------------------------------\n"
          ]
        },
        {
          "output_type": "display_data",
          "data": {
            "text/plain": [
              "<IPython.core.display.Markdown object>"
            ],
            "text/markdown": "> **model**: word, english sentence, translation, translated portuguese sentence\n> dog, My dog is cute, cachorro, meu cachorro é bonitinho\n> cat, I have a cat, gato, eu tenho um gato\n> red, The apple is red, vermelho, a maçã é vermelha\n> blue, The sky is blue, azul, o céu é azul\n> yellow, The sun is yellow, amarelo, o sol é amarelo\n> white, The milk is white, branco, o leite é branco\n> black, The car is black, preto, o carro é preto\n> green, The grass is green, verde, a grama é verde\n> purple, The flowers are purple, roxo, as flores são roxas"
          },
          "metadata": {}
        },
        {
          "output_type": "stream",
          "name": "stdout",
          "text": [
            "-------------------------------------------\n"
          ]
        },
        {
          "output_type": "display_data",
          "data": {
            "text/plain": [
              "<IPython.core.display.Markdown object>"
            ],
            "text/markdown": "> **user**: that"
          },
          "metadata": {}
        },
        {
          "output_type": "stream",
          "name": "stdout",
          "text": [
            "-------------------------------------------\n"
          ]
        },
        {
          "output_type": "display_data",
          "data": {
            "text/plain": [
              "<IPython.core.display.Markdown object>"
            ],
            "text/markdown": "> **model**: that, That is a book, isso, isso é um livro\n> that, That is my friend, isso, aquele é meu amigo\n> that, That is a beautiful painting, isso, aquela é uma linda pintura\n> that, That is a delicious cake, isso, esse bolo é delicioso\n> that, That is a funny movie, isso, aquele filme é engraçado\n> that, That is a sad song, isso, aquela música é triste\n> that, That is an interesting story, isso, essa história é interessante\n> that, That is a useful tool, isso, essa ferramenta é útil\n> that, That is a comfortable chair, isso, essa cadeira é confortável\n> that, That is a nice gift, isso, esse presente é legal"
          },
          "metadata": {}
        },
        {
          "output_type": "stream",
          "name": "stdout",
          "text": [
            "-------------------------------------------\n"
          ]
        },
        {
          "output_type": "display_data",
          "data": {
            "text/plain": [
              "<IPython.core.display.Markdown object>"
            ],
            "text/markdown": "> **user**: what"
          },
          "metadata": {}
        },
        {
          "output_type": "stream",
          "name": "stdout",
          "text": [
            "-------------------------------------------\n"
          ]
        },
        {
          "output_type": "display_data",
          "data": {
            "text/plain": [
              "<IPython.core.display.Markdown object>"
            ],
            "text/markdown": "> **model**: what, What is your name?, o que, qual é seu nome?\n> what, What is the time?, o que, que horas são?\n> what, What is the weather like?, o que, como está o tempo?\n> what, What are you doing?, o que, o que você está fazendo?\n> what, What do you want?, o que, o que você quer?\n> what, What is the problem?, o que, qual é o problema?\n> what, What is the solution?, o que, qual é a solução?\n> what, What is the difference?, o que, qual é a diferença?\n> what, What is the meaning of life?, o que, qual é o sentido da vida?\n> what, What is the best thing to do?, o que, qual é a melhor coisa a se fazer?"
          },
          "metadata": {}
        },
        {
          "output_type": "stream",
          "name": "stdout",
          "text": [
            "-------------------------------------------\n"
          ]
        }
      ]
    }
  ]
}